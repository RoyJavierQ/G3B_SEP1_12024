{
 "cells": [
  {
   "cell_type": "markdown",
   "metadata": {},
   "source": [
    "Importaciones de librerias"
   ]
  },
  {
   "cell_type": "code",
   "execution_count": null,
   "metadata": {},
   "outputs": [],
   "source": [
    "import pandapower as pp\n",
    "import pandapower.plotting as plot\n",
    "import matplotlib.pyplot as plt\n",
    "import numpy as np"
   ]
  },
  {
   "cell_type": "markdown",
   "metadata": {},
   "source": [
    "Creacion de red, barras, generador, transformador, lineas, cargas y resolucion de flujo de carga."
   ]
  },
  {
   "cell_type": "code",
   "execution_count": null,
   "metadata": {},
   "outputs": [],
   "source": [
    "net = pp.create_empty_network(name=\"empty\")\n",
    "\n",
    "# Barras\n",
    "b1 = pp.create_bus(net, vn_kv=110.0, name=\"bus 1\")\n",
    "b2 = pp.create_bus(net, vn_kv=220.0, name=\"bus 2\")\n",
    "b3 = pp.create_bus(net, vn_kv=220.0, name=\"bus 1a\")\n",
    "b4 = pp.create_bus(net, vn_kv=220.0, name=\"bus 2a\")\n",
    "b5 = pp.create_bus(net, vn_kv=220.0, name=\"bus 3a\")\n",
    "b6 = pp.create_bus(net, vn_kv=220.0, name=\"bus 2b\")\n",
    "b7 = pp.create_bus(net, vn_kv=220.0, name=\"bus 1b\")\n",
    "\n",
    "# Generador\n",
    "pp.create_ext_grid(net, b1, vm_pu=1.0, name=\"external grid\", va_degree=0)\n",
    "\n",
    "# Transformador\n",
    "trafo1 = pp.create_transformer(net, b2, b1, name=\"110kV/220kV transformer\", std_type=\"100 MVA 220/110 kV\")\n",
    "\n",
    "# Líneas\n",
    "line1 = pp.create_line(net, b2, b3, length_km=10, std_type=\"N2XS(FL)2Y 1x185 RM/35 64/110 kV\", name=\"Line 1\")\n",
    "line2 = pp.create_line(net, b3, b4, length_km=15, std_type=\"N2XS(FL)2Y 1x185 RM/35 64/110 kV\", name=\"Line 2\")\n",
    "line3 = pp.create_line(net, b4, b5, length_km=20, std_type=\"N2XS(FL)2Y 1x185 RM/35 64/110 kV\", name=\"Line 3\")\n",
    "line4 = pp.create_line(net, b5, b6, length_km=15, std_type=\"N2XS(FL)2Y 1x185 RM/35 64/110 kV\", name=\"Line 4\")\n",
    "line5 = pp.create_line(net, b6, b7, length_km=30, std_type=\"N2XS(FL)2Y 1x185 RM/35 64/110 kV\", name=\"Line 5\")\n",
    "line6 = pp.create_line(net, b2, b7, length_km=10, std_type=\"N2XS(FL)2Y 1x185 RM/35 64/110 kV\", name=\"Line 6\")\n",
    "\n",
    "# Cargas\n",
    "load1 = pp.create_load(net, b3, p_mw=150, q_mvar=100, scaling=0.2, name=\"load 1a\")\n",
    "load2 = pp.create_load(net, b4, p_mw=150, q_mvar=100, scaling=0.35, name=\"load 2a\")\n",
    "load3 = pp.create_load(net, b5, p_mw=150, q_mvar=100, scaling=0.15, name=\"load 3a\")\n",
    "load4 = pp.create_load(net, b6, p_mw=150, q_mvar=100, scaling=0.6, name=\"load 2b\")\n",
    "load5 = pp.create_load(net, b7, p_mw=150, q_mvar=100, scaling=0.1, name=\"load 1b\")\n",
    "\n",
    "# barra PV (barra 2)\n",
    "pp.create_gen(net, bus=b2, p_mw=0, vm_pu=1.0, name=\"PV generator\") \n",
    "\n",
    "# Resolver flujo de carga\n",
    "pp.runpp(net)"
   ]
  },
  {
   "cell_type": "markdown",
   "metadata": {},
   "source": [
    "Resultados flujo de carga"
   ]
  },
  {
   "cell_type": "code",
   "execution_count": null,
   "metadata": {},
   "outputs": [],
   "source": [
    "Tensiones = net.res_bus.vm_pu\n",
    "Angulos = net.res_bus.va_degree\n",
    "Tensiones_kv = Tensiones * net.bus.vn_kv"
   ]
  },
  {
   "cell_type": "markdown",
   "metadata": {},
   "source": [
    "Creacion de matriz Ybus "
   ]
  },
  {
   "cell_type": "code",
   "execution_count": null,
   "metadata": {},
   "outputs": [],
   "source": [
    "# Matriz Ybus\n",
    "Y_bus = net._ppc['internal']['Ybus'].todense()"
   ]
  },
  {
   "cell_type": "markdown",
   "metadata": {},
   "source": [
    "Creacion de matrices de flujo de potencia"
   ]
  },
  {
   "cell_type": "code",
   "execution_count": null,
   "metadata": {},
   "outputs": [],
   "source": [
    "# Se Definen los valores iniciales para las tensiones y ángulos.\n",
    "V = np.ones(len(net.bus))  # Tensiones en 1.0 p.u.\n",
    "theta = np.zeros(len(net.bus))  # Ángulos en 0 radianes(python lo calcula así).\n",
    "\n",
    "# Se Definen P, Q en p.u.\n",
    "S_base = 100  # Base de potencia en MVA\n",
    "P_variable = np.zeros(len(net.bus))  # Se empieza con ceros\n",
    "Q_variable = np.zeros(len(net.bus))  # Se empieza con ceros\n",
    "\n",
    "# Configurar las potencias especificadas según las cargas definidas\n",
    "for load in net.load.itertuples():\n",
    "    P_variable[load.bus] -= load.p_mw / S_base  # Convertir MW a pu \n",
    "    Q_variable[load.bus] -= load.q_mvar / S_base  # Convertir MVar a pu \n",
    "# Se definen las barras PV y PQ (Menos la barra slack)\n",
    "slack_bus = int(net.ext_grid.bus.values[0])\n",
    "pv_buses = [bus for bus in net.gen.bus if bus != slack_bus]\n",
    "pq_buses = [bus for bus in net.load.bus if bus != slack_bus]"
   ]
  },
  {
   "cell_type": "markdown",
   "metadata": {},
   "source": [
    "Funcion de calculo de matriz F(x)"
   ]
  },
  {
   "cell_type": "code",
   "execution_count": null,
   "metadata": {},
   "outputs": [],
   "source": [
    "# Función para calcular el desbalance de potencia\n",
    "def calc_power_mismatch(Y_bus, V, theta, P_variable, Q_variable, pv_buses, pq_buses):\n",
    "    # Número de barras\n",
    "    n_buses = len(V)\n",
    "    \n",
    "    # Potencias P y Q\n",
    "    P = np.zeros(n_buses)\n",
    "    Q = np.zeros(n_buses)\n",
    "    \n",
    "    for i in range(n_buses):\n",
    "        for j in range(n_buses):\n",
    "            P[i] += V[i] * V[j] * (Y_bus[i,j].real * np.cos(theta[i] - theta[j]) + Y_bus[i,j].imag * np.sin(theta[i] - theta[j]))\n",
    "            Q[i] += V[i] * V[j] * (Y_bus[i,j].real * np.sin(theta[i] - theta[j]) - Y_bus[i,j].imag * np.cos(theta[i] - theta[j]))\n",
    "    \n",
    "    # Delta P y delta Q\n",
    "    dP = P_variable - P\n",
    "    dQ = Q_variable - Q\n",
    "    \n",
    "    # Vector\n",
    "    mismatch = []\n",
    "    \n",
    "    # Para barras PV, sólo  P\n",
    "    for i in pv_buses:\n",
    "        mismatch.append(dP[i])\n",
    "    \n",
    "    # Para barras PQ, sólo P y Q\n",
    "    for i in pq_buses:\n",
    "        mismatch.append(dP[i])\n",
    "        mismatch.append(dQ[i])\n",
    "    \n",
    "    return np.array(mismatch)"
   ]
  },
  {
   "cell_type": "markdown",
   "metadata": {},
   "source": [
    "Funcion de Calculo de Matriz Jacobiana"
   ]
  },
  {
   "cell_type": "code",
   "execution_count": null,
   "metadata": {},
   "outputs": [],
   "source": [
    "def calc_jacobian(Y_bus, V, theta, P, Q, pv_buses, pq_buses):\n",
    "    n_buses = len(V)\n",
    "    H = np.zeros((n_buses, n_buses))\n",
    "    N = np.zeros((n_buses, n_buses))\n",
    "    M = np.zeros((n_buses, n_buses))\n",
    "    L = np.zeros((n_buses, n_buses))\n",
    "    \n",
    "    for i in range(n_buses):\n",
    "        for j in range(n_buses):\n",
    "            if i != j:\n",
    "                H[i, j] = -V[i] * V[j] * (Y_bus[i, j].real * np.sin(theta[i] - theta[j]) - Y_bus[i, j].imag * np.cos(theta[i] - theta[j]))\n",
    "                N[i, j] = -V[i] * (Y_bus[i, j].real * np.cos(theta[i] - theta[j]) + Y_bus[i, j].imag * np.sin(theta[i] - theta[j]))\n",
    "                M[i, j] = V[i] * V[j] * (Y_bus[i, j].real * np.cos(theta[i] - theta[j]) + Y_bus[i, j].imag * np.sin(theta[i] - theta[j]))\n",
    "                L[i, j] = -V[i] * (Y_bus[i, j].real * np.sin(theta[i] - theta[j]) - Y_bus[i, j].imag * np.cos(theta[i] - theta[j]))\n",
    "            else:\n",
    "                H[i, i] = Q[i] + V[i]**2 * Y_bus[i, i].imag\n",
    "                N[i, i] = -P[i] / V[i] - V[i] * Y_bus[i, i].real\n",
    "                M[i, i] = -P[i] + V[i]**2 * Y_bus[i, i].real\n",
    "                L[i, i] = -Q[i] / V[i] + V[i] * Y_bus[i, i].imag\n",
    "    \n",
    "    # Excluir la barra slack\n",
    "    pv_pq_buses = pv_buses + pq_buses\n",
    "    H = H[np.ix_(pv_pq_buses, pv_pq_buses)]\n",
    "    N = N[np.ix_(pv_pq_buses, pq_buses)]\n",
    "    M = M[np.ix_(pq_buses, pv_pq_buses)]\n",
    "    L = L[np.ix_(pq_buses, pq_buses)]\n",
    "    \n",
    "    return H, N, M, L"
   ]
  },
  {
   "cell_type": "markdown",
   "metadata": {},
   "source": [
    "Parametros de iteraciones"
   ]
  },
  {
   "cell_type": "code",
   "execution_count": null,
   "metadata": {},
   "outputs": [],
   "source": [
    "# Iteraciones de Newton-Raphson\n",
    "max_iter = 3\n",
    "tol = 1e-6"
   ]
  },
  {
   "cell_type": "markdown",
   "metadata": {},
   "source": [
    "Creacion de lista vacias"
   ]
  },
  {
   "cell_type": "code",
   "execution_count": null,
   "metadata": {},
   "outputs": [],
   "source": [
    "n_buses = len(V)\n",
    "P = np.zeros(n_buses)\n",
    "Q = np.zeros(n_buses)"
   ]
  },
  {
   "cell_type": "markdown",
   "metadata": {},
   "source": [
    "Calculo de Angulos y Tensiones"
   ]
  },
  {
   "cell_type": "code",
   "execution_count": null,
   "metadata": {},
   "outputs": [],
   "source": [
    "for k in range(max_iter):\n",
    "    \n",
    "    F_xk = calc_power_mismatch(Y_bus, V, theta, P_variable, Q_variable, pv_buses, pq_buses)\n",
    "    \n",
    "    if np.linalg.norm(F_xk) < tol:\n",
    "        print(f'Converged in {k} iterations')\n",
    "        break\n",
    "    \n",
    "    H, N, M, L = calc_jacobian(Y_bus, V, theta, P, Q, pv_buses, pq_buses)\n",
    "    \n",
    "    J_top = np.hstack((H, N))\n",
    "    J_bottom = np.hstack((M, L))\n",
    "    J = np.vstack((J_top, J_bottom))\n",
    "    \n",
    "    J_inv = np.linalg.inv(J)\n",
    "    delta_x = -np.dot(J_inv, F_xk)\n",
    "    \n",
    "    # Actualizar tensiones y ángulos\n",
    "    delta_theta = delta_x[:len(pv_buses) + len(pq_buses)]\n",
    "    delta_V = delta_x[len(pv_buses) + len(pq_buses):]\n",
    "    \n",
    "    for i, bus in enumerate(pv_buses + pq_buses):\n",
    "        theta[bus] += delta_theta[i]\n",
    "    \n",
    "    for i, bus in enumerate(pq_buses):\n",
    "        V[bus] += delta_V[i]\n",
    "    \n",
    "    # Convertir los ángulos a grados\n",
    "    theta_deg = np.degrees(theta)\n",
    "    #Tensión p.u.\n",
    "    V_pu = V\n",
    "    print(f'\\nIteration {k + 1}:')\n",
    "    for i, bus in enumerate(net.bus.index):\n",
    "        print(f'{net.bus.at[bus, \"name\"]}: Theta = {theta_deg[bus]:.4f} grados, V = {V[bus]:.4f} pu'),\n",
    "    "
   ]
  },
  {
   "cell_type": "markdown",
   "metadata": {},
   "source": [
    "Buscar resultados de PandaPower"
   ]
  },
  {
   "cell_type": "code",
   "execution_count": null,
   "metadata": {},
   "outputs": [],
   "source": [
    "reference_va_degree = net.res_bus.va_degree.values\n",
    "reference_vm_pu = net.res_bus.vm_pu.values"
   ]
  },
  {
   "cell_type": "markdown",
   "metadata": {},
   "source": [
    "Comparacion de PandaPower y Newton-Raphson"
   ]
  },
  {
   "cell_type": "code",
   "execution_count": null,
   "metadata": {},
   "outputs": [],
   "source": [
    "print('\\nResultados de referencia (pandapower):')\n",
    "for bus in net.bus.index:\n",
    "    print(f'{net.bus.at[bus, \"name\"]}: Theta = {reference_va_degree[bus]:.4f} grados, V = {(reference_vm_pu[bus]):.4f} pu')\n",
    "\n",
    "print('\\nResultados finales del método de Newton-Raphson:')\n",
    "for bus in net.bus.index:\n",
    "    print(f'{net.bus.at[bus, \"name\"]}: Theta = {theta_deg[bus]:.4f} grados, V = {V_pu[bus]:.4f} pu')"
   ]
  },
  {
   "cell_type": "markdown",
   "metadata": {},
   "source": [
    "Funcion de Tolerancia de umbral de tolerancia"
   ]
  },
  {
   "cell_type": "code",
   "execution_count": null,
   "metadata": {},
   "outputs": [],
   "source": [
    "# Newton-Raphson con tolerancias variables\n",
    "def newton_raphson(Y_bus, V, theta, P_variable, Q_variable, pv_buses, pq_buses, tol, max_iter=20):\n",
    "    for k in range(max_iter):\n",
    "        \n",
    "        F_xk = calc_power_mismatch(Y_bus, V, theta, P_variable, Q_variable, pv_buses, pq_buses)\n",
    "        \n",
    "        if np.linalg.norm(F_xk) < tol:\n",
    "            return V, theta, k + 1\n",
    "        \n",
    "        H, N, M, L = calc_jacobian(Y_bus, V, theta, P, Q, pv_buses, pq_buses)\n",
    "        \n",
    "        J_top = np.hstack((H, N))\n",
    "        J_bottom = np.hstack((M, L))\n",
    "        J = np.vstack((J_top, J_bottom))\n",
    "        \n",
    "        J_inv = np.linalg.inv(J)\n",
    "        delta_x = -np.dot(J_inv, F_xk)\n",
    "        \n",
    "        # Actualizar tensiones y ángulos\n",
    "        delta_theta = delta_x[:len(pv_buses) + len(pq_buses)]\n",
    "        delta_V = delta_x[len(pv_buses) + len(pq_buses):]\n",
    "        \n",
    "        for i, bus in enumerate(pv_buses + pq_buses):\n",
    "            theta[bus] += delta_theta[i]\n",
    "        \n",
    "        for i, bus in enumerate(pq_buses):\n",
    "            V[bus] += delta_V[i]\n",
    "    \n",
    "    return V, theta, max_iter  # Si no converge en max_iter iteraciones, retorna valores"
   ]
  },
  {
   "cell_type": "markdown",
   "metadata": {},
   "source": [
    "Calculo de resultados con parametros de tolerancias"
   ]
  },
  {
   "cell_type": "code",
   "execution_count": null,
   "metadata": {},
   "outputs": [],
   "source": [
    "#distintas tolerancias\n",
    "tolerancias = [1e-4, 1e-6, 1e-8]\n",
    "resultados = {}\n",
    "\n",
    "for tol in tolerancias:\n",
    "    V, theta, iterations = newton_raphson(Y_bus, V.copy(), theta.copy(), P_variable, Q_variable, pv_buses, pq_buses, tol)\n",
    "    theta_deg = np.degrees(theta)\n",
    "    resultados[tol] = (V, theta_deg, iterations)"
   ]
  },
  {
   "cell_type": "code",
   "execution_count": null,
   "metadata": {},
   "outputs": [],
   "source": [
    "Nueva comparacion"
   ]
  },
  {
   "cell_type": "code",
   "execution_count": null,
   "metadata": {},
   "outputs": [],
   "source": [
    "# Comparación de resultados\n",
    "reference_va_degree = net.res_bus.va_degree.values\n",
    "reference_vm_pu = net.res_bus.vm_pu.values\n",
    "\n",
    "print('\\nResultados de referencia (pandapower):')\n",
    "for bus in net.bus.index:\n",
    "    print(f'{net.bus.at[bus, \"name\"]}: Theta = {format(reference_va_degree[bus], \".4e\")} grados, V = {format(reference_vm_pu[bus], \".4e\")} pu')\n",
    "\n",
    "for tol, (V_pu, theta_deg, iterations) in resultados.items():\n",
    "    print(f'\\nResultados con tolerancia {tol}:')\n",
    "    print(f'Converged in {iterations} iterations')\n",
    "    for bus in net.bus.index:\n",
    "        print(f'{net.bus.at[bus, \"name\"]}: Theta = {format(theta_deg[bus], \".4e\")} grados, V = {format(V_pu[bus], \".4e\")} pu')"
   ]
  }
 ],
 "metadata": {
  "kernelspec": {
   "display_name": "base",
   "language": "python",
   "name": "python3"
  },
  "language_info": {
   "name": "python",
   "version": "3.8.8"
  }
 },
 "nbformat": 4,
 "nbformat_minor": 2
}
